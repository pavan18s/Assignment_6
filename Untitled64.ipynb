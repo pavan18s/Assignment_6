{
 "cells": [
  {
   "cell_type": "raw",
   "id": "9762a6b3",
   "metadata": {},
   "source": [
    "1. What are escape characters, and how do you use them?"
   ]
  },
  {
   "cell_type": "raw",
   "id": "8ab0a878",
   "metadata": {},
   "source": [
    "An escape character is a backslash \\ followed by the character we want to insert."
   ]
  },
  {
   "cell_type": "raw",
   "id": "e3a56d9c",
   "metadata": {},
   "source": [
    "2. What do the escape characters n and t stand for?"
   ]
  },
  {
   "cell_type": "code",
   "execution_count": null,
   "id": "894fe10a",
   "metadata": {},
   "outputs": [],
   "source": [
    "Escape character n means new line whereas t is tab "
   ]
  },
  {
   "cell_type": "code",
   "execution_count": null,
   "id": "f29df904",
   "metadata": {},
   "outputs": [],
   "source": [
    "3. What is the way to include backslash characters in a string?"
   ]
  },
  {
   "cell_type": "code",
   "execution_count": null,
   "id": "bab292ef",
   "metadata": {},
   "outputs": [],
   "source": [
    "by writing double backslash\\\\"
   ]
  },
  {
   "cell_type": "code",
   "execution_count": null,
   "id": "e973cbef",
   "metadata": {},
   "outputs": [],
   "source": [
    "4. The string \"Howl's Moving Castle\" is a correct value. Why isn't the single quote character in the word Howl's not escaped a problem?"
   ]
  },
  {
   "cell_type": "code",
   "execution_count": null,
   "id": "d14707fb",
   "metadata": {},
   "outputs": [],
   "source": [
    "Beasuce of double quote it get recognized by python interpreter"
   ]
  },
  {
   "cell_type": "code",
   "execution_count": null,
   "id": "9d7eb0a6",
   "metadata": {},
   "outputs": [],
   "source": [
    "5. How do you write a string of newlines if you don't want to use the n character?"
   ]
  },
  {
   "cell_type": "code",
   "execution_count": null,
   "id": "2793af1f",
   "metadata": {},
   "outputs": [],
   "source": []
  },
  {
   "cell_type": "code",
   "execution_count": null,
   "id": "140a5f98",
   "metadata": {},
   "outputs": [],
   "source": [
    "6. What are the values of the given expressions?\n",
    "'Hello, world!'[1]\n",
    "Ans-e\n",
    "'Hello, world!'[0:5]\n",
    "Ans-Hello\n",
    "'Hello, world!'[:5]\n",
    "Ans-Hello\n",
    "'Hello, world!'[3:]\n",
    "Ans-lo, world!"
   ]
  },
  {
   "cell_type": "code",
   "execution_count": null,
   "id": "5de025fe",
   "metadata": {},
   "outputs": [],
   "source": [
    "7. What are the values of the following expressions?\n",
    "'Hello'.upper()\n",
    "Ans-HELLO\n",
    "'Hello'.upper().isupper()\n",
    "True\n",
    "'Hello'.upper().lower()\n",
    "hello"
   ]
  },
  {
   "cell_type": "code",
   "execution_count": null,
   "id": "2e8ed0e7",
   "metadata": {},
   "outputs": [],
   "source": [
    "8. What are the values of the following expressions?\n",
    "'Remember, remember, the fifth of July.'.split()\n",
    "Ans-['Remember,', 'remember,', 'the', 'fifth', 'of', 'July.']\n",
    "'-'.join('There can only one.'.split())\n",
    "Ans-'There-can-only-one.'"
   ]
  },
  {
   "cell_type": "code",
   "execution_count": null,
   "id": "a454e8be",
   "metadata": {},
   "outputs": [],
   "source": [
    "9. What are the methods for right-justifying, left-justifying, and centering a string?"
   ]
  },
  {
   "cell_type": "code",
   "execution_count": null,
   "id": "c960c8b2",
   "metadata": {},
   "outputs": [],
   "source": [
    "Ans-This function left aligns the string according to the width specified and fills remaining space of line with blank space if ‘ fillchr ‘ argument is not passed.\n",
    "same for right and centre"
   ]
  },
  {
   "cell_type": "code",
   "execution_count": 11,
   "id": "75e851d2",
   "metadata": {},
   "outputs": [
    {
     "name": "stdout",
     "output_type": "stream",
     "text": [
      "Object `end` not found.\n"
     ]
    }
   ],
   "source": [
    "10. What is the best way to remove whitespace characters from the start or end?"
   ]
  },
  {
   "cell_type": "code",
   "execution_count": null,
   "id": "35eb43ca",
   "metadata": {},
   "outputs": [],
   "source": [
    "10. What is the best way to remove whitespace characters from the start or end"
   ]
  },
  {
   "cell_type": "code",
   "execution_count": null,
   "id": "5eb0f675",
   "metadata": {},
   "outputs": [],
   "source": [
    "Ans-By using trim method we can remove all whitespace characters"
   ]
  }
 ],
 "metadata": {
  "kernelspec": {
   "display_name": "Python 3 (ipykernel)",
   "language": "python",
   "name": "python3"
  },
  "language_info": {
   "codemirror_mode": {
    "name": "ipython",
    "version": 3
   },
   "file_extension": ".py",
   "mimetype": "text/x-python",
   "name": "python",
   "nbconvert_exporter": "python",
   "pygments_lexer": "ipython3",
   "version": "3.9.7"
  }
 },
 "nbformat": 4,
 "nbformat_minor": 5
}
